{
 "cells": [
  {
   "cell_type": "markdown",
   "id": "2f36b72f",
   "metadata": {},
   "source": [
    "# Introduction \n",
    "Fix $n \\in \\mathbb{N}.$ We say a subset $P \\subset \\mathbb{R}^n$ is a $\\textbf{polytope}$ in $\\mathbb{R}^n$ if there exist distinct points $\\mathbf{v}_1, \\ \\dots \\ , \\mathbf{v}_k \\in \\mathbb{R}^n$ with $k \\ge n+1$ such that \n",
    "\\begin{align*}\n",
    "    P &=  \\left \\lbrace \\sum_{i=1}^k \\lambda_i \\mathbf{v}_i: \\lambda_1, \\ \\dots \\ , \\lambda_k \\ge 0, \\sum_{i=1}^k \\lambda_i \\le1 \\right \\rbrace.\n",
    "\\end{align*}\n",
    "In words, $P$ is a region enclosed by $n$-dimensional hyperplanes in $\\mathbb{R}^n.$ We refer to the points $\\mathbf{v}_1, \\ \\dots \\ , \\mathbf{v}_k$ as the $\\textbf{vertices}$ of $P.$ We also define the $\\textbf{interior}$ of $P$ to be the set\n",
    "\\begin{align*}\n",
    " \\text{Int}(P) &= \\left \\lbrace \\sum_{i=1}^k \\lambda_i \\mathbf{v}_i: \\lambda_1, \\ \\dots \\ , \\lambda_k > 0, \\sum_{i=1}^k \\lambda_i < 1 \\right \\rbrace.\n",
    "\\end{align*}\n",
    "Note that a polytope $P$ is necessarily a $\\textbf{convex}$ set, which means for every $\\mathbf{p},\\mathbf{q} \\in P$ and every $s \\in [0,1],$ we have $s \\ \\mathbf{p} + (1-s) \\  \\mathbf{q} \\in P.$ In words, for every $\\mathbf{p},\\mathbf{q} \\in P,$ the line segment joining $\\mathbf{p}, \\mathbf{q}$ is a subset of $P.$"
   ]
  },
  {
   "cell_type": "markdown",
   "id": "d5df0d6a",
   "metadata": {},
   "source": [
    "In the special case $n=2,$ polytopes are precisely convex polygons from basic geometry. Recall a polygon is a region in $\\mathbb{R}^2$ enclosed by line segments. Examples of convex polygons include triangles and parallelograms.\n",
    "\n",
    "<table><tr>\n",
    "<td>  <img src=\"Triangle.png\" alt=\"Drawing\" style=\"width: 200px\"/> <center> <figcaption> Triangle </figcaption> </center> </td>\n",
    "<td>  <img src=\"Parallelogram.png\" alt=\"Drawing\" style=\"width: 200px\"/> <center> <figcaption> Parallelogram </figcaption> </center> </td>\n",
    "</tr></table>"
   ]
  },
  {
   "cell_type": "markdown",
   "id": "c9e4ea5a",
   "metadata": {},
   "source": [
    "We describe two common, recurring examples of a polytopes in $\\mathbb{R}^n.$\n",
    "An $\\textbf{($n$-dimensional) simplex}$ is a polytope with exactly $n+1$ affinely independent vertices $\\mathbf{v}_1, \\ \\dots \\ , \\mathbf{v}_{n+1}.$ This means the set $$\\left \\lbrace \\mathbf{v}_{i+1}-\\mathbf{v}_1 \\right \\rbrace_{i=1}^n$$ is linearly independent in $\\mathbb{R}^n.$ We associate a simplex to an $n \\times n$ matrix $A,$ in which for each $1 \\le i \\le n,$ the $i$-th row of $A$ is the vector $\\mathbf{v}_{i+1}- \\mathbf{v}_1$ written as a row vector. The transpose of this matrix is\n",
    "$$A^T=\\begin{bmatrix} \\mathbf{v}_{2}-\\mathbf{v}_{1} \\ | & \\ \\dots \\  & \\ | \\ \\mathbf{v}_{n+1}-\\mathbf{v}_{1} \\end{bmatrix},$$ where the $i$-th column is $\\mathbf{v}_{i+1}- \\mathbf{v}_1$ written as a column vector. We call $A^T$ the $\\textbf{affine matrix}$ for the simplex.\n",
    "\n",
    "Intuitively, the simplex is the generalization of the triangle in $\\mathbb{R}^2.$ In the special case $n=3,$ the simplex is known as a tetrahedron. \n",
    "\n",
    "\n",
    "Meanwhile, the $\\textbf{($n$-dimensional) parallelepiped}$ is a polytope with vertices $$\\left \\lbrace \\mathbf{v}_1 + \\sum_{j=1}^n \\lambda_j (\\mathbf{v}_{j+1}-\\mathbf{v}_1) : \\  \\lambda_1, \\ \\dots \\ , \\lambda_n \\in \\lbrace 0, 1 \\rbrace \\right \\rbrace,$$ where $\\mathbf{v}_1, \\ \\dots \\ , \\mathbf{v}_{n+1}$ are affinely independent. More intuitively, the parallelepiped is a generalization of the parallelogram in $\\mathbb{R}^2.$ Note by elementary combinatorics, a parallelepiped has exactly $2^n$ vertices.\n",
    "\n",
    "<table><tr>\n",
    "<td>  <img src=\"Tetrahedron.png\" alt=\"Drawing\" style=\"width: 200px;\"/> <center> <figcaption> 3D Tetrahedron </figcaption> </center>\n",
    "<td>  <img src=\"Parallelepiped.png\" alt=\"Drawing\" style=\"width: 200px;\"/> <center> <figcaption> 3D Parallelepiped </figcaption> </center>\n",
    "</td>\n",
    "</tr></table>"
   ]
  },
  {
   "cell_type": "markdown",
   "id": "582a5f1c",
   "metadata": {},
   "source": [
    "# Problem Statement\n",
    "\n",
    "Let $P$ be a polytope. A classical problem in combinatorial topology with plenty of real world applications is to $\\textbf{triangulate } P,$ which means to decompose $P$ into a union of simplices $S_1, \\ \\dots \\ , S_m$ that have pairwise disjoint interiors. It is a well-known theorem in discrete geometry that any polytope can be triangulated. For example, the convex polygon with $k$ vertices (with $k \\ge 4$) can be triangulated by fixing one particular vertex and drawing a line segment emanating from the fixed vertex to each non-adjacent vertex. \n",
    "Another example is that the $n$-dimensional parallelepiped can be decomposed into $n!$ simplices.\n",
    "\n",
    "In this notebook, we triangulate any arbitrary polytope given its vertices. We first obtain subsets of vertices that are affinely independent and hence define simplices that are candidates for triangulation. Given these candidate simplices, we determine the simplices that have pairwise disjoint interiors iteratively. This amounts to solving a linear programming problem numerically."
   ]
  },
  {
   "cell_type": "code",
   "execution_count": 1,
   "id": "dd43672e",
   "metadata": {},
   "outputs": [],
   "source": [
    "import numpy as np\n",
    "import scipy as sc\n",
    "import scipy.special\n",
    "import itertools\n",
    "from joblib import Parallel, delayed"
   ]
  },
  {
   "cell_type": "markdown",
   "id": "924f788f",
   "metadata": {},
   "source": [
    "# Determining Candidate Simplices For Triangulation\n",
    "\n",
    "Let $P$ be a convex polytope with vertices $V= \\lbrace \\mathbf{v}_1, \\ \\dots \\ , \\mathbf{v}_k \\rbrace$ where $k \\ge n+1.$ We determine simplices who are candidates for triangulation of $P$ in the following way.\n",
    "\n",
    "* We first obtain all subsets of $V$ with $n+1$ distinct elements. Each such subset is of the form $$\\lbrace \\mathbf{v}_{i_1}, \\ \\dots \\ , \\mathbf{v}_{i_{n+1}} \\rbrace,$$ where $1 \\le i_1 < \\ \\dots \\ < i_{n+1} \\le k.$ By elementary combinatorics, there are $\\binom{k}{n+1}$ total such subsets to consider.\n",
    "\n",
    "* For each subset $\\lbrace \\mathbf{v}_{i_1}, \\ \\dots \\ , \\mathbf{v}_{i_{n+1}} \\rbrace \\subset V$ from the previous bullet point, we check whether the vertices of the subset form a valid simplex. By the definition of the simplex stated in the introduction, this means we check whether the subset itself is an affinely independent set in $\\mathbb{R}^n$ i.e. whether the set of vectors $\\lbrace \\mathbf{v}_{i_{j+1}} - \\mathbf{v}_{i_1} \\rbrace_{j=1}^n$ is a linearly independent set in $\\mathbb{R}^n.$ By a theorem in linear algebra, this is equivalent to checking the whether \n",
    "the corresponding affine matrix $A^T,$ whose $j$-th column is the vector $\\mathbf{v}_{i_{j+1}} - \\mathbf{v}_{i_1}$ for each $ 1\\le j \\le n,$ has nonzero determinant.\n",
    "\n",
    "* If $\\lbrace \\mathbf{v}_{i_1}, \\ \\dots \\ , \\mathbf{v}_{i_{n+1}} \\rbrace \\subset V$ is affinely independent, we refer to the simplex defined by this set of vertices as a $\\textbf{candidate simplex}$ for the triangulation of $P.$ \n",
    "\n",
    "In the code cell below, we determine candidate simplices for the triangulation of $P$ based on its vertices. Each candidate simplex is represented via a unique affinely independent subset of the original set of vertices. We give an example to determine all candidate tetrahedra for the triangulation of the unit cube $I^3$ (whose vertices are elements of the cartesian product $\\lbrace 0,1 \\rbrace^3.$ Note that there are $\\binom{8}{4}=70$ sets of $4$ vertices to consider. But the sets of $4$ vertices that form the cube's boundary square faces are affinely dependent. So are the sets of $4$ vertices that form the cube'sdiagonal cross sections. This would result in considering $70-6-6=58$ candidate tetrahedra. "
   ]
  },
  {
   "cell_type": "code",
   "execution_count": 2,
   "id": "54dc5537",
   "metadata": {},
   "outputs": [
    {
     "data": {
      "text/plain": [
       "[[0, 0, 0],\n",
       " [0, 0, 1],\n",
       " [0, 1, 0],\n",
       " [0, 1, 1],\n",
       " [1, 0, 0],\n",
       " [1, 0, 1],\n",
       " [1, 1, 0],\n",
       " [1, 1, 1]]"
      ]
     },
     "execution_count": 2,
     "metadata": {},
     "output_type": "execute_result"
    }
   ],
   "source": [
    "def cube(n):\n",
    "    vertices=[list(x) for x in itertools.product([0,1],repeat=n)]\n",
    "    return vertices\n",
    "cube(3)"
   ]
  },
  {
   "cell_type": "code",
   "execution_count": 3,
   "id": "6033e6c1",
   "metadata": {},
   "outputs": [],
   "source": [
    "def get_affine_matrix(S):\n",
    "    S=np.array(S)\n",
    "    A=S[1:]-S[0]\n",
    "    return A.T\n",
    "\n",
    "def is_valid_simplex(S):\n",
    "    A=get_affine_matrix(S)\n",
    "    return np.linalg.det(A) !=0 \n",
    "\n",
    "def get_candidate_simplices(V):\n",
    "    n=len(V[0])\n",
    "    all_simplices=itertools.combinations(V,n+1)\n",
    "    candidate_simplices=[S for S in all_simplices if is_valid_simplex(S)]\n",
    "    return candidate_simplices\n"
   ]
  },
  {
   "cell_type": "markdown",
   "id": "ff073fac",
   "metadata": {},
   "source": [
    "# Determining Whether Candidate Simplices Have Disjoint Interiors\n",
    "\n",
    "Let $S$ and $T$ be a candidate simplices with vertices $\\lbrace \\mathbf{s}_1, \\ \\dots \\ , \\mathbf{s}_{n+1} \\rbrace$ and $\\lbrace \\mathbf{t}_1, \\ \\dots \\ , \\mathbf{t}_{n+1} \\rbrace.$ We determine whether their interiors (as defined in the introduction) are disjoint in the following algorithmic way:\n",
    "\n",
    "* We sample a large number of random coefficient vectors (according to the uniform $(0,1)$ distribution) of the form $\\mathbf{a}=(a_1, \\ \\dots \\ , a_n) \\in (0,1)^n$ satisfying $\\sum_{i=1}^n a_i < 1.$\n",
    "* For each $\\mathbf{a}$ from the previous bullet point, we consider the affine matrix $A^T$ for $\\lbrace \\mathbf{s}_1, \\ \\dots \\ , \\mathbf{s}_{n+1} \\rbrace$ and compute the corresponding point $$\\mathbf{p}=\\mathbf{s}_1 + A^T \\mathbf{a}.$$ Note that $\\mathbf{p} \\in \\text{Int}(S).$ \n",
    "* For each $\\mathbf{p}$ from the previous bullet point, we consider the affine matrix $B^T$ for $\\lbrace \\mathbf{t}_1, \\ \\dots \\ , \\mathbf{t}_{n+1} \\rbrace$ and solve the equation $$\\mathbf{p}= \\mathbf{t}_1+ B^T \\mathbf{b}$$ for $\\mathbf{b}.$ Note there will be a unique solution for $\\mathbf{b},$ since $\\det(B^T) \\ne 0.$\n",
    "* We check if $\\mathbf{b}=(b_1, \\ \\dots \\ , b_n)$ from the previous bullet point satisfies each $b_i>0$ and $\\sum_{i=1}^n b_i < 1.$  \n",
    "* If there exists a sampled $\\mathbf{a}$ from the first bullet point that yields a corresponding $\\mathbf{b}$ satisfying the previous bullet point, then $S$ and $T$ have joint interiors. Otherwise, we declare $S$ and $T$ to have disjoint interiors.  \n",
    "\n",
    "We implement this algorithm in the code cell below."
   ]
  },
  {
   "cell_type": "code",
   "execution_count": 4,
   "id": "544e82f2",
   "metadata": {},
   "outputs": [
    {
     "data": {
      "text/plain": [
       "array([[1.00000000e-03, 3.52983804e-01, 1.31105433e-01],\n",
       "       [2.00000000e-03, 7.80311697e-01, 3.14672469e-02],\n",
       "       [3.00000000e-03, 5.72266534e-01, 2.64438015e-01],\n",
       "       ...,\n",
       "       [9.97000000e-01, 1.15556446e-04, 7.16133660e-04],\n",
       "       [9.98000000e-01, 7.49885088e-04, 1.03480582e-03],\n",
       "       [9.99000000e-01, 8.70124646e-04, 1.16568095e-05]])"
      ]
     },
     "execution_count": 4,
     "metadata": {},
     "output_type": "execute_result"
    }
   ],
   "source": [
    "x=np.linspace(0,1,1000,endpoint=False)[1:]\n",
    "y=np.random.uniform(0,1-x)\n",
    "z=np.random.uniform(0,1-y-x)\n",
    "np.vstack([x,y,z]).T"
   ]
  },
  {
   "cell_type": "code",
   "execution_count": 5,
   "id": "a611175d",
   "metadata": {},
   "outputs": [
    {
     "data": {
      "text/plain": [
       "array([0.002, 0.004, 0.006, 0.008, 0.01 , 0.012, 0.014, 0.016, 0.018,\n",
       "       0.02 , 0.022, 0.024, 0.026, 0.028, 0.03 , 0.032, 0.034, 0.036,\n",
       "       0.038, 0.04 , 0.042, 0.044, 0.046, 0.048, 0.05 , 0.052, 0.054,\n",
       "       0.056, 0.058, 0.06 , 0.062, 0.064, 0.066, 0.068, 0.07 , 0.072,\n",
       "       0.074, 0.076, 0.078, 0.08 , 0.082, 0.084, 0.086, 0.088, 0.09 ,\n",
       "       0.092, 0.094, 0.096, 0.098, 0.1  , 0.102, 0.104, 0.106, 0.108,\n",
       "       0.11 , 0.112, 0.114, 0.116, 0.118, 0.12 , 0.122, 0.124, 0.126,\n",
       "       0.128, 0.13 , 0.132, 0.134, 0.136, 0.138, 0.14 , 0.142, 0.144,\n",
       "       0.146, 0.148, 0.15 , 0.152, 0.154, 0.156, 0.158, 0.16 , 0.162,\n",
       "       0.164, 0.166, 0.168, 0.17 , 0.172, 0.174, 0.176, 0.178, 0.18 ,\n",
       "       0.182, 0.184, 0.186, 0.188, 0.19 , 0.192, 0.194, 0.196, 0.198,\n",
       "       0.2  , 0.202, 0.204, 0.206, 0.208, 0.21 , 0.212, 0.214, 0.216,\n",
       "       0.218, 0.22 , 0.222, 0.224, 0.226, 0.228, 0.23 , 0.232, 0.234,\n",
       "       0.236, 0.238, 0.24 , 0.242, 0.244, 0.246, 0.248, 0.25 , 0.252,\n",
       "       0.254, 0.256, 0.258, 0.26 , 0.262, 0.264, 0.266, 0.268, 0.27 ,\n",
       "       0.272, 0.274, 0.276, 0.278, 0.28 , 0.282, 0.284, 0.286, 0.288,\n",
       "       0.29 , 0.292, 0.294, 0.296, 0.298, 0.3  , 0.302, 0.304, 0.306,\n",
       "       0.308, 0.31 , 0.312, 0.314, 0.316, 0.318, 0.32 , 0.322, 0.324,\n",
       "       0.326, 0.328, 0.33 , 0.332, 0.334, 0.336, 0.338, 0.34 , 0.342,\n",
       "       0.344, 0.346, 0.348, 0.35 , 0.352, 0.354, 0.356, 0.358, 0.36 ,\n",
       "       0.362, 0.364, 0.366, 0.368, 0.37 , 0.372, 0.374, 0.376, 0.378,\n",
       "       0.38 , 0.382, 0.384, 0.386, 0.388, 0.39 , 0.392, 0.394, 0.396,\n",
       "       0.398, 0.4  , 0.402, 0.404, 0.406, 0.408, 0.41 , 0.412, 0.414,\n",
       "       0.416, 0.418, 0.42 , 0.422, 0.424, 0.426, 0.428, 0.43 , 0.432,\n",
       "       0.434, 0.436, 0.438, 0.44 , 0.442, 0.444, 0.446, 0.448, 0.45 ,\n",
       "       0.452, 0.454, 0.456, 0.458, 0.46 , 0.462, 0.464, 0.466, 0.468,\n",
       "       0.47 , 0.472, 0.474, 0.476, 0.478, 0.48 , 0.482, 0.484, 0.486,\n",
       "       0.488, 0.49 , 0.492, 0.494, 0.496, 0.498, 0.5  , 0.502, 0.504,\n",
       "       0.506, 0.508, 0.51 , 0.512, 0.514, 0.516, 0.518, 0.52 , 0.522,\n",
       "       0.524, 0.526, 0.528, 0.53 , 0.532, 0.534, 0.536, 0.538, 0.54 ,\n",
       "       0.542, 0.544, 0.546, 0.548, 0.55 , 0.552, 0.554, 0.556, 0.558,\n",
       "       0.56 , 0.562, 0.564, 0.566, 0.568, 0.57 , 0.572, 0.574, 0.576,\n",
       "       0.578, 0.58 , 0.582, 0.584, 0.586, 0.588, 0.59 , 0.592, 0.594,\n",
       "       0.596, 0.598, 0.6  , 0.602, 0.604, 0.606, 0.608, 0.61 , 0.612,\n",
       "       0.614, 0.616, 0.618, 0.62 , 0.622, 0.624, 0.626, 0.628, 0.63 ,\n",
       "       0.632, 0.634, 0.636, 0.638, 0.64 , 0.642, 0.644, 0.646, 0.648,\n",
       "       0.65 , 0.652, 0.654, 0.656, 0.658, 0.66 , 0.662, 0.664, 0.666,\n",
       "       0.668, 0.67 , 0.672, 0.674, 0.676, 0.678, 0.68 , 0.682, 0.684,\n",
       "       0.686, 0.688, 0.69 , 0.692, 0.694, 0.696, 0.698, 0.7  , 0.702,\n",
       "       0.704, 0.706, 0.708, 0.71 , 0.712, 0.714, 0.716, 0.718, 0.72 ,\n",
       "       0.722, 0.724, 0.726, 0.728, 0.73 , 0.732, 0.734, 0.736, 0.738,\n",
       "       0.74 , 0.742, 0.744, 0.746, 0.748, 0.75 , 0.752, 0.754, 0.756,\n",
       "       0.758, 0.76 , 0.762, 0.764, 0.766, 0.768, 0.77 , 0.772, 0.774,\n",
       "       0.776, 0.778, 0.78 , 0.782, 0.784, 0.786, 0.788, 0.79 , 0.792,\n",
       "       0.794, 0.796, 0.798, 0.8  , 0.802, 0.804, 0.806, 0.808, 0.81 ,\n",
       "       0.812, 0.814, 0.816, 0.818, 0.82 , 0.822, 0.824, 0.826, 0.828,\n",
       "       0.83 , 0.832, 0.834, 0.836, 0.838, 0.84 , 0.842, 0.844, 0.846,\n",
       "       0.848, 0.85 , 0.852, 0.854, 0.856, 0.858, 0.86 , 0.862, 0.864,\n",
       "       0.866, 0.868, 0.87 , 0.872, 0.874, 0.876, 0.878, 0.88 , 0.882,\n",
       "       0.884, 0.886, 0.888, 0.89 , 0.892, 0.894, 0.896, 0.898, 0.9  ,\n",
       "       0.902, 0.904, 0.906, 0.908, 0.91 , 0.912, 0.914, 0.916, 0.918,\n",
       "       0.92 , 0.922, 0.924, 0.926, 0.928, 0.93 , 0.932, 0.934, 0.936,\n",
       "       0.938, 0.94 , 0.942, 0.944, 0.946, 0.948, 0.95 , 0.952, 0.954,\n",
       "       0.956, 0.958, 0.96 , 0.962, 0.964, 0.966, 0.968, 0.97 , 0.972,\n",
       "       0.974, 0.976, 0.978, 0.98 , 0.982, 0.984, 0.986, 0.988, 0.99 ,\n",
       "       0.992, 0.994, 0.996, 0.998, 1.   , 1.002, 1.004, 1.006, 1.008,\n",
       "       1.01 , 1.012, 1.014, 1.016, 1.018, 1.02 , 1.022, 1.024, 1.026,\n",
       "       1.028, 1.03 , 1.032, 1.034, 1.036, 1.038, 1.04 , 1.042, 1.044,\n",
       "       1.046, 1.048, 1.05 , 1.052, 1.054, 1.056, 1.058, 1.06 , 1.062,\n",
       "       1.064, 1.066, 1.068, 1.07 , 1.072, 1.074, 1.076, 1.078, 1.08 ,\n",
       "       1.082, 1.084, 1.086, 1.088, 1.09 , 1.092, 1.094, 1.096, 1.098,\n",
       "       1.1  , 1.102, 1.104, 1.106, 1.108, 1.11 , 1.112, 1.114, 1.116,\n",
       "       1.118, 1.12 , 1.122, 1.124, 1.126, 1.128, 1.13 , 1.132, 1.134,\n",
       "       1.136, 1.138, 1.14 , 1.142, 1.144, 1.146, 1.148, 1.15 , 1.152,\n",
       "       1.154, 1.156, 1.158, 1.16 , 1.162, 1.164, 1.166, 1.168, 1.17 ,\n",
       "       1.172, 1.174, 1.176, 1.178, 1.18 , 1.182, 1.184, 1.186, 1.188,\n",
       "       1.19 , 1.192, 1.194, 1.196, 1.198, 1.2  , 1.202, 1.204, 1.206,\n",
       "       1.208, 1.21 , 1.212, 1.214, 1.216, 1.218, 1.22 , 1.222, 1.224,\n",
       "       1.226, 1.228, 1.23 , 1.232, 1.234, 1.236, 1.238, 1.24 , 1.242,\n",
       "       1.244, 1.246, 1.248, 1.25 , 1.252, 1.254, 1.256, 1.258, 1.26 ,\n",
       "       1.262, 1.264, 1.266, 1.268, 1.27 , 1.272, 1.274, 1.276, 1.278,\n",
       "       1.28 , 1.282, 1.284, 1.286, 1.288, 1.29 , 1.292, 1.294, 1.296,\n",
       "       1.298, 1.3  , 1.302, 1.304, 1.306, 1.308, 1.31 , 1.312, 1.314,\n",
       "       1.316, 1.318, 1.32 , 1.322, 1.324, 1.326, 1.328, 1.33 , 1.332,\n",
       "       1.334, 1.336, 1.338, 1.34 , 1.342, 1.344, 1.346, 1.348, 1.35 ,\n",
       "       1.352, 1.354, 1.356, 1.358, 1.36 , 1.362, 1.364, 1.366, 1.368,\n",
       "       1.37 , 1.372, 1.374, 1.376, 1.378, 1.38 , 1.382, 1.384, 1.386,\n",
       "       1.388, 1.39 , 1.392, 1.394, 1.396, 1.398, 1.4  , 1.402, 1.404,\n",
       "       1.406, 1.408, 1.41 , 1.412, 1.414, 1.416, 1.418, 1.42 , 1.422,\n",
       "       1.424, 1.426, 1.428, 1.43 , 1.432, 1.434, 1.436, 1.438, 1.44 ,\n",
       "       1.442, 1.444, 1.446, 1.448, 1.45 , 1.452, 1.454, 1.456, 1.458,\n",
       "       1.46 , 1.462, 1.464, 1.466, 1.468, 1.47 , 1.472, 1.474, 1.476,\n",
       "       1.478, 1.48 , 1.482, 1.484, 1.486, 1.488, 1.49 , 1.492, 1.494,\n",
       "       1.496, 1.498, 1.5  , 1.502, 1.504, 1.506, 1.508, 1.51 , 1.512,\n",
       "       1.514, 1.516, 1.518, 1.52 , 1.522, 1.524, 1.526, 1.528, 1.53 ,\n",
       "       1.532, 1.534, 1.536, 1.538, 1.54 , 1.542, 1.544, 1.546, 1.548,\n",
       "       1.55 , 1.552, 1.554, 1.556, 1.558, 1.56 , 1.562, 1.564, 1.566,\n",
       "       1.568, 1.57 , 1.572, 1.574, 1.576, 1.578, 1.58 , 1.582, 1.584,\n",
       "       1.586, 1.588, 1.59 , 1.592, 1.594, 1.596, 1.598, 1.6  , 1.602,\n",
       "       1.604, 1.606, 1.608, 1.61 , 1.612, 1.614, 1.616, 1.618, 1.62 ,\n",
       "       1.622, 1.624, 1.626, 1.628, 1.63 , 1.632, 1.634, 1.636, 1.638,\n",
       "       1.64 , 1.642, 1.644, 1.646, 1.648, 1.65 , 1.652, 1.654, 1.656,\n",
       "       1.658, 1.66 , 1.662, 1.664, 1.666, 1.668, 1.67 , 1.672, 1.674,\n",
       "       1.676, 1.678, 1.68 , 1.682, 1.684, 1.686, 1.688, 1.69 , 1.692,\n",
       "       1.694, 1.696, 1.698, 1.7  , 1.702, 1.704, 1.706, 1.708, 1.71 ,\n",
       "       1.712, 1.714, 1.716, 1.718, 1.72 , 1.722, 1.724, 1.726, 1.728,\n",
       "       1.73 , 1.732, 1.734, 1.736, 1.738, 1.74 , 1.742, 1.744, 1.746,\n",
       "       1.748, 1.75 , 1.752, 1.754, 1.756, 1.758, 1.76 , 1.762, 1.764,\n",
       "       1.766, 1.768, 1.77 , 1.772, 1.774, 1.776, 1.778, 1.78 , 1.782,\n",
       "       1.784, 1.786, 1.788, 1.79 , 1.792, 1.794, 1.796, 1.798, 1.8  ,\n",
       "       1.802, 1.804, 1.806, 1.808, 1.81 , 1.812, 1.814, 1.816, 1.818,\n",
       "       1.82 , 1.822, 1.824, 1.826, 1.828, 1.83 , 1.832, 1.834, 1.836,\n",
       "       1.838, 1.84 , 1.842, 1.844, 1.846, 1.848, 1.85 , 1.852, 1.854,\n",
       "       1.856, 1.858, 1.86 , 1.862, 1.864, 1.866, 1.868, 1.87 , 1.872,\n",
       "       1.874, 1.876, 1.878, 1.88 , 1.882, 1.884, 1.886, 1.888, 1.89 ,\n",
       "       1.892, 1.894, 1.896, 1.898, 1.9  , 1.902, 1.904, 1.906, 1.908,\n",
       "       1.91 , 1.912, 1.914, 1.916, 1.918, 1.92 , 1.922, 1.924, 1.926,\n",
       "       1.928, 1.93 , 1.932, 1.934, 1.936, 1.938, 1.94 , 1.942, 1.944,\n",
       "       1.946, 1.948, 1.95 , 1.952, 1.954, 1.956, 1.958, 1.96 , 1.962,\n",
       "       1.964, 1.966, 1.968, 1.97 , 1.972, 1.974, 1.976, 1.978, 1.98 ,\n",
       "       1.982, 1.984, 1.986, 1.988, 1.99 , 1.992, 1.994, 1.996, 1.998])"
      ]
     },
     "execution_count": 5,
     "metadata": {},
     "output_type": "execute_result"
    }
   ],
   "source": [
    "np.sum([x,x],axis=0)"
   ]
  },
  {
   "cell_type": "code",
   "execution_count": 6,
   "id": "41120b64",
   "metadata": {},
   "outputs": [
    {
     "data": {
      "text/plain": [
       "True"
      ]
     },
     "execution_count": 6,
     "metadata": {},
     "output_type": "execute_result"
    }
   ],
   "source": [
    "def are_valid_coeffs(coeffs):\n",
    "    for coeff in coeffs:\n",
    "        if coeff <=0:\n",
    "            return False\n",
    "    return np.sum(coeffs) < 1\n",
    "            \n",
    "\n",
    "def get_point_in_simplex_from_coeffs(s,coeffs):\n",
    "    A=get_affine_matrix(s)\n",
    "    coeffs=np.array(coeffs)\n",
    "    v1=np.array(s[0])\n",
    "    p = v1 + A @ coeffs\n",
    "    return p\n",
    "\n",
    "\n",
    "def generate_random_points_in_simplex(S,n_samples=1000):\n",
    "    n=len(S)-1\n",
    "    coeffs_list=[np.random.uniform(0,1,n) for i in range(n_samples)]\n",
    "#     coeffs_list=[np.linspace(0,1,n_samples,endpoint=False)]\n",
    "#     if n>1:\n",
    "#         for i in range(1,n):\n",
    "#             coeffs_list.append(np.random.uniform(0,1-np.sum(coeffs_list,axis=0)))\n",
    "    \n",
    "#     coeffs_list=np.vstack(coeffs_list).T[1:]\n",
    "#     x=list(itertools.product(np.linspace(0,1,n_samples,endpoint=False)[1:],repeat=n))\n",
    "    \n",
    "    coeffs_list=[coeffs for coeffs in coeffs_list if are_valid_coeffs(coeffs)]\n",
    "    points=[get_point_in_simplex_from_coeffs(S,coeffs) for coeffs in coeffs_list]\n",
    "    return points\n",
    "\n",
    "def is_in_simplex(S,p):\n",
    "    A=get_affine_matrix(S)\n",
    "    v1=np.array(S[0])\n",
    "    p=np.array(p)\n",
    "    b=p-v1\n",
    "    x=np.linalg.solve(A,b)\n",
    "    return are_valid_coeffs(x)\n",
    "\n",
    "\n",
    "def have_disjoint_interiors(S,T):\n",
    "    S_points=generate_random_points_in_simplex(S)\n",
    "    try:\n",
    "        next(point for point in S_points if is_in_simplex(T,point))\n",
    "        return False\n",
    "    except:\n",
    "        return True\n",
    "\n",
    "\n",
    "S=[[0,0,0],[1,0,0],[0,1,0],[0,0,1]]\n",
    "T=[[1,0,0],[0,1,0],[0,0,1],[1,1,1]]\n",
    "have_disjoint_interiors(S,T)"
   ]
  },
  {
   "cell_type": "markdown",
   "id": "3a24e72c",
   "metadata": {},
   "source": [
    "# Determining The List of Candidate Simplices With Pairwise Disjoint Interiors\n",
    "\n",
    "Let $\\lbrace S_1, \\ \\dots \\ , S_p \\rbrace$ be the set of all candidate simplices for triangulation of $P.$ We determine the subset $\\Delta \\subset \\lbrace S_1, \\ \\dots \\ , S_p \\rbrace$ of candidate simplices that have pairwise disjoint interiors. We do this in an iterative fashion.\n",
    "\n",
    "* We first let $\\tau_1=1$ and initialize $\\Delta=\\lbrace S_{\\tau_1} \\rbrace.$\n",
    "* We define the set $$A_2=\\lbrace m > \\tau_1: \\text{$S_m, S_{\\tau_1}$ have pairwise disjoint interiors} \\rbrace.$$ If $A_2$ is empty, we terminate the process. Otherwise, if $A_2$ is nonempty, we let $\\tau_2=\\inf(A_2)$ and update $\\Delta=\\lbrace S_{\\tau_1}, S_{\\tau_2} \\rbrace.$\n",
    "* For each $i>2,$ we define $$A_i=\\lbrace m > \\tau_{i-1}: \\text{$S_m, S_{\\tau_1}, \\ \\dots \\ , S_{\\tau_{i-1}}$ have pairwise disjoint interiors} \\rbrace.$$ If $A_i$ is empty, we terminate the process. Otherwise, if $A_i$ is nonempty, we let $\\tau_i=\\inf(A_i)$ and update $\\Delta=\\lbrace S_{\\tau_1}, \\ \\dots \\ , S_{\\tau_{i-1}}, S_{\\tau_i} \\rbrace.$\n",
    "\n",
    "We implement this in the code cell below. "
   ]
  },
  {
   "cell_type": "code",
   "execution_count": 7,
   "id": "a5ad6759",
   "metadata": {},
   "outputs": [],
   "source": [
    "def simplex_is_pairwise_disjoint_to_other_simplices(S, other_simplices):\n",
    "    try:\n",
    "        next(T for T in other_simplices if have_disjoint_interiors(S,T) == False)\n",
    "        return False\n",
    "    except:\n",
    "        return True"
   ]
  },
  {
   "cell_type": "code",
   "execution_count": 8,
   "id": "0f758e18",
   "metadata": {},
   "outputs": [
    {
     "name": "stdout",
     "output_type": "stream",
     "text": [
      "ADDED SIMPLEX 1 ...\n",
      "ADDED SIMPLEX 2 ...\n",
      "ADDED SIMPLEX 3 ...\n",
      "ADDED SIMPLEX 4 ...\n",
      "ADDED SIMPLEX 5 ...\n",
      "ADDED SIMPLEX 6 ...\n",
      "DONE !\n"
     ]
    },
    {
     "data": {
      "text/plain": [
       "[([0, 0, 0], [0, 0, 1], [0, 1, 0], [1, 0, 0]),\n",
       " ([0, 0, 1], [0, 1, 0], [0, 1, 1], [1, 0, 0]),\n",
       " ([0, 0, 1], [0, 1, 1], [1, 0, 0], [1, 0, 1]),\n",
       " ([0, 1, 0], [0, 1, 1], [1, 0, 0], [1, 1, 0]),\n",
       " ([0, 1, 1], [1, 0, 0], [1, 0, 1], [1, 1, 0]),\n",
       " ([0, 1, 1], [1, 0, 1], [1, 1, 0], [1, 1, 1])]"
      ]
     },
     "execution_count": 8,
     "metadata": {},
     "output_type": "execute_result"
    }
   ],
   "source": [
    "def determine_pairwise_disjoint_simplices(candidate_simplices):\n",
    "    if candidate_simplices == []:\n",
    "        return []\n",
    "    Delta=[candidate_simplices[0]]\n",
    "    print(\"ADDED SIMPLEX 1 ...\")\n",
    "    tau=0    \n",
    "    foundnewsimplex=True\n",
    "    while foundnewsimplex:\n",
    "        try:\n",
    "            tau= next(i for i in range(tau+1, len(candidate_simplices))\n",
    "                      if simplex_is_pairwise_disjoint_to_other_simplices(candidate_simplices[i], Delta))\n",
    "            Delta.append(candidate_simplices[tau])\n",
    "            print(\"ADDED SIMPLEX {} ...\".format(len(Delta)))\n",
    "        except:\n",
    "            foundnewsimplex=False\n",
    "            print(\"DONE !\")\n",
    "    return Delta\n",
    "    \n",
    "def triangulate(V):\n",
    "    candidate_simplices=get_candidate_simplices(V)\n",
    "    Delta=determine_pairwise_disjoint_simplices(candidate_simplices)\n",
    "    return Delta\n",
    "triangulate(cube(3))"
   ]
  },
  {
   "cell_type": "markdown",
   "id": "771eafb4",
   "metadata": {},
   "source": [
    "# Computing A Polytope's Volume\n",
    "\n",
    "Thanks to our decomposition, we can now easily compute the volume of the polytope $P.$ This is done by computing the volume of each simplex in its triangulation and summing the volumes together. The volume of a simplex $S$ spanned by vertices $\\mathbf{s}_1, \\ \\dots \\ , \\mathbf{s}_{n+1}$ is given by the formula\n",
    "$$\\text{Vol}(S) = \\frac{|\\det(A)|}{n!},$$ where $A$ is the matrix with $j$-th row $\\mathbf{s}_{j+1}-\\mathbf{s}_1.$\n",
    "\n",
    "We implement this below."
   ]
  },
  {
   "cell_type": "code",
   "execution_count": 9,
   "id": "99886901",
   "metadata": {},
   "outputs": [
    {
     "name": "stdout",
     "output_type": "stream",
     "text": [
      "ADDED SIMPLEX 1 ...\n",
      "ADDED SIMPLEX 2 ...\n",
      "ADDED SIMPLEX 3 ...\n",
      "ADDED SIMPLEX 4 ...\n",
      "ADDED SIMPLEX 5 ...\n",
      "ADDED SIMPLEX 6 ...\n",
      "DONE !\n"
     ]
    },
    {
     "data": {
      "text/plain": [
       "0.9999999999999999"
      ]
     },
     "execution_count": 9,
     "metadata": {},
     "output_type": "execute_result"
    }
   ],
   "source": [
    "def volume(V):\n",
    "    n=len(V[0])\n",
    "    pairwise_disjoint_simplices=triangulate(V)\n",
    "    vols=[np.abs(np.linalg.det(get_affine_matrix(S)))/sc.special.factorial(n) for S in pairwise_disjoint_simplices]\n",
    "    return np.sum(vols)\n",
    "\n",
    "volume(cube(3))"
   ]
  },
  {
   "cell_type": "code",
   "execution_count": 10,
   "id": "5106b2ae",
   "metadata": {},
   "outputs": [],
   "source": [
    "def is_calabi_vertex(binary_vec):\n",
    "    for i in range(len(binary_vec)-1):\n",
    "        if binary_vec[i]+binary_vec[i+1] not in [0,1]:\n",
    "            return False\n",
    "    return binary_vec[0]+binary_vec[-1] in [0,1]\n",
    "            "
   ]
  },
  {
   "cell_type": "code",
   "execution_count": 11,
   "id": "7bc23089",
   "metadata": {},
   "outputs": [],
   "source": [
    "def calabi_polytope(n):\n",
    "    vertices=[v for v in cube(n) if is_calabi_vertex(v)]\n",
    "    if n%2 !=0:\n",
    "        vertices.append(list(np.repeat(1/2,n)))\n",
    "    return vertices"
   ]
  },
  {
   "cell_type": "code",
   "execution_count": 14,
   "id": "8c389ac0",
   "metadata": {},
   "outputs": [
    {
     "name": "stdout",
     "output_type": "stream",
     "text": [
      "ADDED SIMPLEX 1 ...\n",
      "ADDED SIMPLEX 2 ...\n",
      "ADDED SIMPLEX 3 ...\n",
      "ADDED SIMPLEX 4 ...\n",
      "ADDED SIMPLEX 5 ...\n",
      "ADDED SIMPLEX 6 ...\n",
      "ADDED SIMPLEX 7 ...\n",
      "ADDED SIMPLEX 8 ...\n",
      "ADDED SIMPLEX 9 ...\n",
      "ADDED SIMPLEX 10 ...\n",
      "ADDED SIMPLEX 11 ...\n",
      "ADDED SIMPLEX 12 ...\n",
      "ADDED SIMPLEX 13 ...\n",
      "ADDED SIMPLEX 14 ...\n",
      "ADDED SIMPLEX 15 ...\n",
      "ADDED SIMPLEX 16 ...\n",
      "DONE !\n"
     ]
    },
    {
     "data": {
      "text/plain": [
       "0.09166666666666667"
      ]
     },
     "execution_count": 14,
     "metadata": {},
     "output_type": "execute_result"
    }
   ],
   "source": [
    "volume(calabi_polytope(5))"
   ]
  },
  {
   "cell_type": "code",
   "execution_count": 13,
   "id": "90613582",
   "metadata": {},
   "outputs": [
    {
     "data": {
      "text/plain": [
       "0.10416666666666667"
      ]
     },
     "execution_count": 13,
     "metadata": {},
     "output_type": "execute_result"
    }
   ],
   "source": [
    "5/48"
   ]
  },
  {
   "cell_type": "code",
   "execution_count": null,
   "id": "d0c9a288",
   "metadata": {},
   "outputs": [],
   "source": []
  }
 ],
 "metadata": {
  "kernelspec": {
   "display_name": "Python 3",
   "language": "python",
   "name": "python3"
  },
  "language_info": {
   "codemirror_mode": {
    "name": "ipython",
    "version": 3
   },
   "file_extension": ".py",
   "mimetype": "text/x-python",
   "name": "python",
   "nbconvert_exporter": "python",
   "pygments_lexer": "ipython3",
   "version": "3.9.0"
  }
 },
 "nbformat": 4,
 "nbformat_minor": 5
}
