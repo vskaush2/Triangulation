{
 "cells": [
  {
   "cell_type": "markdown",
   "id": "2f36b72f",
   "metadata": {},
   "source": [
    "# Polytopes\n",
    "\n",
    "Fix $n \\in \\mathbb{N}.$ We say a subset $P \\subset \\mathbb{R}^n$ is a $\\textbf{polytope}$ in $\\mathbb{R}^n$ if there exist distinct points $\\mathbf{v}_1, \\ \\dots \\ , \\mathbf{v}_k \\in \\mathbb{R}^n$ with $k \\ge n+1$ such that \n",
    "\\begin{align*}\n",
    "    P &=  \\left \\lbrace \\sum_{i=1}^k \\lambda_i \\mathbf{v}_i: \\lambda_1, \\ \\dots \\ , \\lambda_k \\ge 0, \\sum_{i=1}^k \\lambda_i \\le1 \\right \\rbrace.\n",
    "\\end{align*}\n",
    "In words, $P$ is a region enclosed by $n$-dimensional hyperplanes in $\\mathbb{R}^n.$ We refer to the points $\\mathbf{v}_1, \\ \\dots \\ , \\mathbf{v}_k$ as the $\\textbf{vertices}$ of $P.$ In addition, the $\\textbf{(topological) interior}$ of $P$ is the set\n",
    "\\begin{align*}\n",
    " \\text{Int}(P) &= \\left \\lbrace \\sum_{i=1}^k \\lambda_i \\mathbf{v}_i: \\lambda_1, \\ \\dots \\ , \\lambda_k > 0, \\sum_{i=1}^k \\lambda_i < 1 \\right \\rbrace.\n",
    "\\end{align*}\n",
    "\n",
    "Note that $P$ is necessarily a $\\textbf{convex}$ set i.e. for every $\\mathbf{p},\\mathbf{q} \\in P$ and for every $s \\in [0,1],$ we have $s \\ \\mathbf{p} + (1-s) \\  \\mathbf{q} \\in P.$ In words, for every $\\mathbf{p},\\mathbf{q} \\in P,$ the line segment joining $\\mathbf{p}, \\mathbf{q}$ is a subset of $P.$"
   ]
  },
  {
   "cell_type": "markdown",
   "id": "d5df0d6a",
   "metadata": {},
   "source": [
    "## Important Examples \n",
    "\n",
    "In the special case $n=2,$ polytopes are precisely $\\textbf{convex polygons}$ from basic geometry. A polygon is a region in $\\mathbb{R}^2$ enclosed by line segments. Examples of convex polygons include triangles and parallelograms.\n",
    "\n",
    "<table><tr>\n",
    "<td>  <img src=\"Triangle.png\" alt=\"Drawing\" style=\"width: 200px\"/> <center> <figcaption> Triangle </figcaption> </center> </td>\n",
    "<td>  <img src=\"Parallelogram.png\" alt=\"Drawing\" style=\"width: 200px\"/> <center> <figcaption> Parallelogram </figcaption> </center> </td>\n",
    "</tr></table>\n",
    "\n",
    "\n",
    "The most important polytope in $n$-dimensions is the simplex. An $\\textbf{($n$-dimensional) simplex}$ is a polytope with exactly $n+1$ affinely independent vertices $\\mathbf{v}_1, \\ \\dots \\ , \\mathbf{v}_{n+1}.$ This means the set $$\\left \\lbrace \\mathbf{v}_{i+1}-\\mathbf{v}_1 \\right \\rbrace_{i=1}^n$$ is linearly independent in $\\mathbb{R}^n.$ We associate a simplex to an $n \\times n$ matrix $A,$ in which for each $1 \\le i \\le n,$ the $i$-th row of $A$ is the vector $\\mathbf{v}_{i+1}- \\mathbf{v}_1$ written as a row vector. The transpose of this matrix is\n",
    "$$A^T=\\begin{bmatrix} \\mathbf{v}_{2}-\\mathbf{v}_{1} \\ | & \\ \\dots \\  & \\ | \\ \\mathbf{v}_{n+1}-\\mathbf{v}_{1} \\end{bmatrix},$$ where the $i$-th column is the vector $\\mathbf{v}_{i+1}- \\mathbf{v}_1$ written as a column vector. We call $A^T$ the $\\textbf{affine matrix}$ for the simplex. Intuitively, the simplex is the generalization of the triangle in $\\mathbb{R}^2.$ Indeed, in the special case $n=2,$ the simplex is the triangle. In the case $n=3,$ the simplex is the tetrahedron. \n",
    "\n",
    "\n",
    "Meanwhile, the $\\textbf{($n$-dimensional) parallelepiped}$ is a polytope with vertices $$\\left \\lbrace \\mathbf{v}_1 + \\sum_{j=1}^n \\lambda_j (\\mathbf{v}_{j+1}-\\mathbf{v}_1) : \\  \\lambda_1, \\ \\dots \\ , \\lambda_n \\in \\lbrace 0, 1 \\rbrace \\right \\rbrace,$$ where $\\mathbf{v}_1, \\ \\dots \\ , \\mathbf{v}_{n+1}$ are affinely independent. Intuitively, the parallelepiped is a generalization of the parallelogram in $\\mathbb{R}^2.$ Indeed, in the case $n=2,$ the parallelepiped is the parallelogram. Note by elementary combinatorics, a parallelepiped has exactly $2^n$ vertices.\n",
    "\n",
    "<table><tr>\n",
    "<td>  <img src=\"Tetrahedron.png\" alt=\"Drawing\" style=\"width: 200px;\"/> <center> <figcaption> 3D Tetrahedron </figcaption> </center>\n",
    "<td>  <img src=\"Parallelepiped.png\" alt=\"Drawing\" style=\"width: 200px;\"/> <center> <figcaption> 3D Parallelepiped </figcaption> </center>\n",
    "</td>\n",
    "</tr></table>"
   ]
  },
  {
   "cell_type": "markdown",
   "id": "582a5f1c",
   "metadata": {},
   "source": [
    "## Problem Statement\n",
    "\n",
    "Let $P$ be a polytope in $\\mathbb{R}^n.$ A classical problem in combinatorial topology with plenty of real world applications is to $\\textbf{triangulate } P,$ which means to decompose $P$ into a union of simplices $S_1, \\ \\dots \\ , S_m$ that have pairwise disjoint interiors. It is a well-known theorem in discrete geometry that $\\textbf{any polytope can be triangulated}$. For example, the convex polygon with $k$ vertices (with $k \\ge 4$) can be triangulated in the following way: choose one particular vertex, and draw a line segment emanating from the chosen vertex to each non-adjacent vertex. Another example is that the $n$-dimensional parallelepiped can be triangulated into $n!$ different simplices.\n",
    "\n",
    "In this notebook, we triangulate an arbitrary polytope given its vertices. We first obtain subsets of vertices that are affinely independent and hence define simplices that are candidates for triangulation. Given these candidate simplices, we determine the simplices that have pairwise disjoint interiors iteratively. This amounts to solving a linear programming problem numerically."
   ]
  },
  {
   "cell_type": "code",
   "execution_count": 1,
   "id": "dd43672e",
   "metadata": {},
   "outputs": [],
   "source": [
    "import numpy as np\n",
    "import scipy as sc\n",
    "import scipy.special\n",
    "import itertools\n",
    "from joblib import Parallel, delayed"
   ]
  },
  {
   "cell_type": "markdown",
   "id": "924f788f",
   "metadata": {},
   "source": [
    "## Determining Candidate Simplices For Triangulation\n",
    "\n",
    "Let $P$ be a convex polytope with vertices $V= \\lbrace \\mathbf{v}_1, \\ \\dots \\ , \\mathbf{v}_k \\rbrace$ where $k \\ge n+1.$ We determine simplices who are candidates for triangulation of $P$ in the following way.\n",
    "\n",
    "* We first obtain all subsets of $V$ with $n+1$ distinct elements. Each such subset is of the form $$\\lbrace \\mathbf{v}_{i_1}, \\ \\dots \\ , \\mathbf{v}_{i_{n+1}} \\rbrace,$$ where $1 \\le i_1 < \\ \\dots \\ < i_{n+1} \\le k.$ By elementary combinatorics, there are $\\binom{k}{n+1}$ total such subsets to consider.\n",
    "\n",
    "* For each subset $\\lbrace \\mathbf{v}_{i_1}, \\ \\dots \\ , \\mathbf{v}_{i_{n+1}} \\rbrace \\subset V$ from the previous bullet point, we check whether the vertices of the subset form a valid simplex. By the definition of the simplex stated in the introduction, this means we check whether the subset itself is an affinely independent set in $\\mathbb{R}^n$ i.e. whether the set of vectors $\\lbrace \\mathbf{v}_{i_{j+1}} - \\mathbf{v}_{i_1} \\rbrace_{j=1}^n$ is a linearly independent set in $\\mathbb{R}^n.$ By a theorem in linear algebra, this is equivalent to checking the whether \n",
    "the corresponding affine matrix $A^T,$ whose $j$-th column is the vector $\\mathbf{v}_{i_{j+1}} - \\mathbf{v}_{i_1}$ for each $ 1\\le j \\le n,$ has nonzero determinant.\n",
    "\n",
    "* If $\\lbrace \\mathbf{v}_{i_1}, \\ \\dots \\ , \\mathbf{v}_{i_{n+1}} \\rbrace \\subset V$ is affinely independent, we refer to the simplex defined by this set of vertices as a $\\textbf{candidate simplex}$ for the triangulation of $P.$ \n",
    "\n",
    "In the code cell below, we determine candidate simplices for the triangulation of $P$ based on its vertices. Each candidate simplex is identified via an affinely independent subset of the original set of vertices. We give an example to determine all candidate tetrahedra for the triangulation of the unit cube $I^3$ (whose vertices are elements of the cartesian product $\\lbrace 0,1 \\rbrace^3.$ Note that there are $\\binom{8}{4}=70$ sets of $4$ vertices to consider. But the sets of $4$ vertices that form the cube's boundary square faces are affinely dependent. So are the sets of $4$ vertices that form the cube'sdiagonal cross sections. This would result in considering $70-6-6=58$ candidate tetrahedra. "
   ]
  },
  {
   "cell_type": "code",
   "execution_count": 2,
   "id": "54dc5537",
   "metadata": {},
   "outputs": [
    {
     "data": {
      "text/plain": [
       "[([0, 0, 0], [0, 0, 1], [0, 1, 0], [1, 0, 0]),\n",
       " ([0, 0, 0], [0, 0, 1], [0, 1, 0], [1, 0, 1]),\n",
       " ([0, 0, 0], [0, 0, 1], [0, 1, 0], [1, 1, 0]),\n",
       " ([0, 0, 0], [0, 0, 1], [0, 1, 0], [1, 1, 1]),\n",
       " ([0, 0, 0], [0, 0, 1], [0, 1, 1], [1, 0, 0]),\n",
       " ([0, 0, 0], [0, 0, 1], [0, 1, 1], [1, 0, 1]),\n",
       " ([0, 0, 0], [0, 0, 1], [0, 1, 1], [1, 1, 0]),\n",
       " ([0, 0, 0], [0, 0, 1], [0, 1, 1], [1, 1, 1]),\n",
       " ([0, 0, 0], [0, 0, 1], [1, 0, 0], [1, 1, 0]),\n",
       " ([0, 0, 0], [0, 0, 1], [1, 0, 0], [1, 1, 1]),\n",
       " ([0, 0, 0], [0, 0, 1], [1, 0, 1], [1, 1, 0]),\n",
       " ([0, 0, 0], [0, 0, 1], [1, 0, 1], [1, 1, 1]),\n",
       " ([0, 0, 0], [0, 1, 0], [0, 1, 1], [1, 0, 0]),\n",
       " ([0, 0, 0], [0, 1, 0], [0, 1, 1], [1, 0, 1]),\n",
       " ([0, 0, 0], [0, 1, 0], [0, 1, 1], [1, 1, 0]),\n",
       " ([0, 0, 0], [0, 1, 0], [0, 1, 1], [1, 1, 1]),\n",
       " ([0, 0, 0], [0, 1, 0], [1, 0, 0], [1, 0, 1]),\n",
       " ([0, 0, 0], [0, 1, 0], [1, 0, 0], [1, 1, 1]),\n",
       " ([0, 0, 0], [0, 1, 0], [1, 0, 1], [1, 1, 0]),\n",
       " ([0, 0, 0], [0, 1, 0], [1, 1, 0], [1, 1, 1]),\n",
       " ([0, 0, 0], [0, 1, 1], [1, 0, 0], [1, 0, 1]),\n",
       " ([0, 0, 0], [0, 1, 1], [1, 0, 0], [1, 1, 0]),\n",
       " ([0, 0, 0], [0, 1, 1], [1, 0, 1], [1, 1, 0]),\n",
       " ([0, 0, 0], [0, 1, 1], [1, 0, 1], [1, 1, 1]),\n",
       " ([0, 0, 0], [0, 1, 1], [1, 1, 0], [1, 1, 1]),\n",
       " ([0, 0, 0], [1, 0, 0], [1, 0, 1], [1, 1, 0]),\n",
       " ([0, 0, 0], [1, 0, 0], [1, 0, 1], [1, 1, 1]),\n",
       " ([0, 0, 0], [1, 0, 0], [1, 1, 0], [1, 1, 1]),\n",
       " ([0, 0, 0], [1, 0, 1], [1, 1, 0], [1, 1, 1]),\n",
       " ([0, 0, 1], [0, 1, 0], [0, 1, 1], [1, 0, 0]),\n",
       " ([0, 0, 1], [0, 1, 0], [0, 1, 1], [1, 0, 1]),\n",
       " ([0, 0, 1], [0, 1, 0], [0, 1, 1], [1, 1, 0]),\n",
       " ([0, 0, 1], [0, 1, 0], [0, 1, 1], [1, 1, 1]),\n",
       " ([0, 0, 1], [0, 1, 0], [1, 0, 0], [1, 0, 1]),\n",
       " ([0, 0, 1], [0, 1, 0], [1, 0, 0], [1, 1, 0]),\n",
       " ([0, 0, 1], [0, 1, 0], [1, 0, 0], [1, 1, 1]),\n",
       " ([0, 0, 1], [0, 1, 0], [1, 0, 1], [1, 1, 1]),\n",
       " ([0, 0, 1], [0, 1, 0], [1, 1, 0], [1, 1, 1]),\n",
       " ([0, 0, 1], [0, 1, 1], [1, 0, 0], [1, 0, 1]),\n",
       " ([0, 0, 1], [0, 1, 1], [1, 0, 0], [1, 1, 1]),\n",
       " ([0, 0, 1], [0, 1, 1], [1, 0, 1], [1, 1, 0]),\n",
       " ([0, 0, 1], [0, 1, 1], [1, 1, 0], [1, 1, 1]),\n",
       " ([0, 0, 1], [1, 0, 0], [1, 0, 1], [1, 1, 0]),\n",
       " ([0, 0, 1], [1, 0, 0], [1, 0, 1], [1, 1, 1]),\n",
       " ([0, 0, 1], [1, 0, 0], [1, 1, 0], [1, 1, 1]),\n",
       " ([0, 0, 1], [1, 0, 1], [1, 1, 0], [1, 1, 1]),\n",
       " ([0, 1, 0], [0, 1, 1], [1, 0, 0], [1, 1, 0]),\n",
       " ([0, 1, 0], [0, 1, 1], [1, 0, 0], [1, 1, 1]),\n",
       " ([0, 1, 0], [0, 1, 1], [1, 0, 1], [1, 1, 0]),\n",
       " ([0, 1, 0], [0, 1, 1], [1, 0, 1], [1, 1, 1]),\n",
       " ([0, 1, 0], [1, 0, 0], [1, 0, 1], [1, 1, 0]),\n",
       " ([0, 1, 0], [1, 0, 0], [1, 0, 1], [1, 1, 1]),\n",
       " ([0, 1, 0], [1, 0, 0], [1, 1, 0], [1, 1, 1]),\n",
       " ([0, 1, 0], [1, 0, 1], [1, 1, 0], [1, 1, 1]),\n",
       " ([0, 1, 1], [1, 0, 0], [1, 0, 1], [1, 1, 0]),\n",
       " ([0, 1, 1], [1, 0, 0], [1, 0, 1], [1, 1, 1]),\n",
       " ([0, 1, 1], [1, 0, 0], [1, 1, 0], [1, 1, 1]),\n",
       " ([0, 1, 1], [1, 0, 1], [1, 1, 0], [1, 1, 1])]"
      ]
     },
     "execution_count": 2,
     "metadata": {},
     "output_type": "execute_result"
    }
   ],
   "source": [
    "def get_affine_matrix(S):\n",
    "    S=np.array(S)\n",
    "    A=S[1:]-S[0]\n",
    "    return A.T\n",
    "\n",
    "def is_valid_simplex(S):\n",
    "    A=get_affine_matrix(S)\n",
    "    return np.linalg.det(A) !=0 \n",
    "\n",
    "def get_candidate_simplices(V):\n",
    "    n=len(V[0])\n",
    "    all_simplices=itertools.combinations(V,n+1)\n",
    "    candidate_simplices=[S for S in all_simplices if is_valid_simplex(S)]\n",
    "    return candidate_simplices\n",
    "\n",
    "def cube(n):\n",
    "    vertices=[list(x) for x in itertools.product([0,1],repeat=n)]\n",
    "    return vertices\n",
    "\n",
    "get_candidate_simplices(cube(3))"
   ]
  },
  {
   "cell_type": "markdown",
   "id": "ff073fac",
   "metadata": {},
   "source": [
    "## Determining Whether Candidate Simplices Have Disjoint Interiors\n",
    "\n",
    "Let $S$ and $T$ be a candidate simplices with vertices $\\lbrace \\mathbf{s}_1, \\ \\dots \\ , \\mathbf{s}_{n+1} \\rbrace$ and $\\lbrace \\mathbf{t}_1, \\ \\dots \\ , \\mathbf{t}_{n+1} \\rbrace.$ We determine whether their interiors (as defined in the introduction) are disjoint in the following algorithmic way:\n",
    "\n",
    "* We sample a large number of random coefficient vectors (according to the uniform $(0,1)$ distribution) of the form $\\mathbf{a}=(a_1, \\ \\dots \\ , a_n) \\in (0,1)^n$ satisfying $\\sum_{i=1}^n a_i < 1.$\n",
    "* For each $\\mathbf{a}$ from the previous bullet point, we consider the affine matrix $A^T$ for $\\lbrace \\mathbf{s}_1, \\ \\dots \\ , \\mathbf{s}_{n+1} \\rbrace$ and compute the corresponding point $$\\mathbf{p}=\\mathbf{s}_1 + A^T \\mathbf{a}.$$ Note that $\\mathbf{p} \\in \\text{Int}(S).$ \n",
    "* For each $\\mathbf{p}$ from the previous bullet point, we consider the affine matrix $B^T$ for $\\lbrace \\mathbf{t}_1, \\ \\dots \\ , \\mathbf{t}_{n+1} \\rbrace$ and solve the equation $$\\mathbf{p}= \\mathbf{t}_1+ B^T \\mathbf{b}$$ for $\\mathbf{b}.$ Note there will be a unique solution for $\\mathbf{b},$ since $\\det(B^T) \\ne 0.$\n",
    "* We check if $\\mathbf{b}=(b_1, \\ \\dots \\ , b_n)$ from the previous bullet point satisfies each $b_i>0$ and $\\sum_{i=1}^n b_i < 1.$  \n",
    "* If there exists a sampled $\\mathbf{a}$ from the first bullet point that yields a corresponding $\\mathbf{b}$ satisfying the previous bullet point, then $S$ and $T$ have joint interiors. Otherwise, we declare $S$ and $T$ to have disjoint interiors.  \n",
    "\n",
    "We implement this algorithm in the code cell below."
   ]
  },
  {
   "cell_type": "code",
   "execution_count": 3,
   "id": "41120b64",
   "metadata": {},
   "outputs": [
    {
     "data": {
      "text/plain": [
       "True"
      ]
     },
     "execution_count": 3,
     "metadata": {},
     "output_type": "execute_result"
    }
   ],
   "source": [
    "def are_valid_coeffs(coeffs):\n",
    "    for coeff in coeffs:\n",
    "        if coeff <=0:\n",
    "            return False\n",
    "    return np.sum(coeffs) < 1\n",
    "            \n",
    "\n",
    "def get_point_in_simplex_from_coeffs(s,coeffs):\n",
    "    A=get_affine_matrix(s)\n",
    "    coeffs=np.array(coeffs)\n",
    "    v1=np.array(s[0])\n",
    "    p = v1 + A @ coeffs\n",
    "    return p\n",
    "\n",
    "\n",
    "def generate_random_points_in_simplex(S,n_samples=1000):\n",
    "    n=len(S)-1\n",
    "    coeffs_list=[np.random.uniform(0,1,n) for i in range(n_samples)]\n",
    "#     coeffs_list=[np.linspace(0,1,n_samples,endpoint=False)]\n",
    "#     if n>1:\n",
    "#         for i in range(1,n):\n",
    "#             coeffs_list.append(np.random.uniform(0,1-np.sum(coeffs_list,axis=0)))\n",
    "    \n",
    "#     coeffs_list=np.vstack(coeffs_list).T[1:]\n",
    "#     x=list(itertools.product(np.linspace(0,1,n_samples,endpoint=False)[1:],repeat=n))\n",
    "    \n",
    "    coeffs_list=[coeffs for coeffs in coeffs_list if are_valid_coeffs(coeffs)]\n",
    "    points=[get_point_in_simplex_from_coeffs(S,coeffs) for coeffs in coeffs_list]\n",
    "    return points\n",
    "\n",
    "def is_in_simplex(S,p):\n",
    "    A=get_affine_matrix(S)\n",
    "    v1=np.array(S[0])\n",
    "    p=np.array(p)\n",
    "    b=p-v1\n",
    "    x=np.linalg.solve(A,b)\n",
    "    return are_valid_coeffs(x)\n",
    "\n",
    "\n",
    "def have_disjoint_interiors(S,T):\n",
    "    S_points=generate_random_points_in_simplex(S)\n",
    "    try:\n",
    "        next(point for point in S_points if is_in_simplex(T,point))\n",
    "        return False\n",
    "    except:\n",
    "        return True\n",
    "\n",
    "\n",
    "S=[[0,0,0],[1,0,0],[0,1,0],[0,0,1]]\n",
    "T=[[1,0,0],[0,1,0],[0,0,1],[1,1,1]]\n",
    "have_disjoint_interiors(S,T)"
   ]
  },
  {
   "cell_type": "markdown",
   "id": "3a24e72c",
   "metadata": {},
   "source": [
    "## Determining The List of Candidate Simplices With Pairwise Disjoint Interiors\n",
    "\n",
    "Let $\\lbrace S_1, \\ \\dots \\ , S_p \\rbrace$ be the set of all candidate simplices for triangulation of $P.$ We determine the subset $\\Delta \\subset \\lbrace S_1, \\ \\dots \\ , S_p \\rbrace$ of candidate simplices that have pairwise disjoint interiors. We do this in an iterative fashion.\n",
    "\n",
    "* We first let $\\tau_1=1$ and initialize $\\Delta=\\lbrace S_{\\tau_1} \\rbrace.$\n",
    "* We define the set $$A_2=\\lbrace m > \\tau_1: \\text{$S_m, S_{\\tau_1}$ have pairwise disjoint interiors} \\rbrace.$$ If $A_2$ is empty, we terminate the process. Otherwise, if $A_2$ is nonempty, we let $\\tau_2=\\inf(A_2)$ and update $\\Delta=\\lbrace S_{\\tau_1}, S_{\\tau_2} \\rbrace.$\n",
    "* For each $i>2,$ we define $$A_i=\\lbrace m > \\tau_{i-1}: \\text{$S_m, S_{\\tau_1}, \\ \\dots \\ , S_{\\tau_{i-1}}$ have pairwise disjoint interiors} \\rbrace.$$ If $A_i$ is empty, we terminate the process. Otherwise, if $A_i$ is nonempty, we let $\\tau_i=\\inf(A_i)$ and update $\\Delta=\\lbrace S_{\\tau_1}, \\ \\dots \\ , S_{\\tau_{i-1}}, S_{\\tau_i} \\rbrace.$\n",
    "\n",
    "We implement this in the code cell below. "
   ]
  },
  {
   "cell_type": "code",
   "execution_count": 4,
   "id": "a5ad6759",
   "metadata": {},
   "outputs": [
    {
     "name": "stdout",
     "output_type": "stream",
     "text": [
      "ADDED SIMPLEX 1 ...\n",
      "ADDED SIMPLEX 2 ...\n",
      "ADDED SIMPLEX 3 ...\n",
      "ADDED SIMPLEX 4 ...\n",
      "ADDED SIMPLEX 5 ...\n",
      "ADDED SIMPLEX 6 ...\n",
      "DONE !\n"
     ]
    },
    {
     "data": {
      "text/plain": [
       "[([0, 0, 0], [0, 0, 1], [0, 1, 0], [1, 0, 0]),\n",
       " ([0, 0, 1], [0, 1, 0], [0, 1, 1], [1, 0, 0]),\n",
       " ([0, 0, 1], [0, 1, 1], [1, 0, 0], [1, 0, 1]),\n",
       " ([0, 1, 0], [0, 1, 1], [1, 0, 0], [1, 1, 0]),\n",
       " ([0, 1, 1], [1, 0, 0], [1, 0, 1], [1, 1, 0]),\n",
       " ([0, 1, 1], [1, 0, 1], [1, 1, 0], [1, 1, 1])]"
      ]
     },
     "execution_count": 4,
     "metadata": {},
     "output_type": "execute_result"
    }
   ],
   "source": [
    "def simplex_is_pairwise_disjoint_to_other_simplices(S, other_simplices):\n",
    "    try:\n",
    "        next(T for T in other_simplices if have_disjoint_interiors(S,T) == False)\n",
    "        return False\n",
    "    except:\n",
    "        return True\n",
    "    \n",
    "def determine_pairwise_disjoint_simplices(candidate_simplices):\n",
    "    if candidate_simplices == []:\n",
    "        return []\n",
    "    Delta=[candidate_simplices[0]]\n",
    "    print(\"ADDED SIMPLEX 1 ...\")\n",
    "    tau=0    \n",
    "    foundnewsimplex=True\n",
    "    while foundnewsimplex:\n",
    "        try:\n",
    "            tau= next(i for i in range(tau+1, len(candidate_simplices))\n",
    "                      if simplex_is_pairwise_disjoint_to_other_simplices(candidate_simplices[i], Delta))\n",
    "            Delta.append(candidate_simplices[tau])\n",
    "            print(\"ADDED SIMPLEX {} ...\".format(len(Delta)))\n",
    "        except:\n",
    "            foundnewsimplex=False\n",
    "            print(\"DONE !\")\n",
    "    return Delta\n",
    "    \n",
    "def triangulate(V):\n",
    "    candidate_simplices=get_candidate_simplices(V)\n",
    "    Delta=determine_pairwise_disjoint_simplices(candidate_simplices)\n",
    "    return Delta\n",
    "\n",
    "triangulate(cube(3))"
   ]
  },
  {
   "cell_type": "markdown",
   "id": "771eafb4",
   "metadata": {},
   "source": [
    "## Computing A Polytope's Volume\n",
    "\n",
    "Thanks to our decomposition, we can now easily compute the volume of the polytope $P.$ This is done by computing the volume of each simplex in its triangulation and summing the individual volumes together. The volume of a simplex $S$ spanned by vertices $\\mathbf{s}_1, \\ \\dots \\ , \\mathbf{s}_{n+1}$ is given by the formula\n",
    "$$\\text{Vol}(S) = \\frac{|\\det(A)|}{n!},$$ where $A$ is the matrix with $j$-th row $\\mathbf{s}_{j+1}-\\mathbf{s}_1.$\n",
    "\n",
    "We implement this below and verify the volume of the $3$-dimensional unit cube is $1$ with this triangulation method."
   ]
  },
  {
   "cell_type": "code",
   "execution_count": 5,
   "id": "99886901",
   "metadata": {},
   "outputs": [
    {
     "name": "stdout",
     "output_type": "stream",
     "text": [
      "ADDED SIMPLEX 1 ...\n",
      "ADDED SIMPLEX 2 ...\n",
      "ADDED SIMPLEX 3 ...\n",
      "ADDED SIMPLEX 4 ...\n",
      "ADDED SIMPLEX 5 ...\n",
      "ADDED SIMPLEX 6 ...\n",
      "DONE !\n"
     ]
    },
    {
     "data": {
      "text/plain": [
       "0.9999999999999999"
      ]
     },
     "execution_count": 5,
     "metadata": {},
     "output_type": "execute_result"
    }
   ],
   "source": [
    "def volume(V):\n",
    "    n=len(V[0])\n",
    "    pairwise_disjoint_simplices=triangulate(V)\n",
    "    vols=[np.abs(np.linalg.det(get_affine_matrix(S)))/sc.special.factorial(n) for S in pairwise_disjoint_simplices]\n",
    "    return np.sum(vols)\n",
    "\n",
    "volume(cube(3))"
   ]
  },
  {
   "cell_type": "markdown",
   "id": "8eec7ad4",
   "metadata": {},
   "source": [
    "## Triangulating the Calabi Polytope\n",
    "\n",
    "We consider $\\textbf{$n$-dimensional Calabi Polytope},$ whose vertices are\n",
    "$$V=\\left \\lbrace (v_1, \\ \\dots \\ , v_n) \\in \\lbrace 0,1 \\rbrace^n: v_j+v_{j+1} \\le 1, v_n+v_1 \\le 1, \\  j \\in \\lbrace 1, \\ \\dots \\ , n-1 \\rbrace \\right \\rbrace,$$ and if $n$ is odd, we append the vector $(1/2, \\ \\dots  \\ , 1/2) \\in \\mathbb{R}^n$ to $V.$ In the code cell below, we obtain the vertices of the Calabi Polytope for $n=4$ and verify its volume is $1/6.$\n",
    "\n",
    "$\\textbf{Remark}:$ Beukers, Calabi, and Kolk proved the intriguing infinite series identity\n",
    "$$\\sum_{k \\in \\mathbb{N}} \\frac{(-1)^k}{(2k+1)^n}= \\left(\\frac{\\pi}{2}\\right)^n\\text{Volume}(\\Delta^n)$$ for each $n \\in \\mathbb{N}.$ Many other authors studied this particular polytope. See the references."
   ]
  },
  {
   "cell_type": "code",
   "execution_count": 6,
   "id": "5106b2ae",
   "metadata": {},
   "outputs": [
    {
     "name": "stdout",
     "output_type": "stream",
     "text": [
      "ADDED SIMPLEX 1 ...\n",
      "ADDED SIMPLEX 2 ...\n",
      "ADDED SIMPLEX 3 ...\n",
      "ADDED SIMPLEX 4 ...\n",
      "DONE !\n"
     ]
    },
    {
     "data": {
      "text/plain": [
       "0.16666666666666666"
      ]
     },
     "execution_count": 6,
     "metadata": {},
     "output_type": "execute_result"
    }
   ],
   "source": [
    "def is_calabi_vertex(binary_vec):\n",
    "    for i in range(len(binary_vec)-1):\n",
    "        if binary_vec[i]+binary_vec[i+1] not in [0,1]:\n",
    "            return False\n",
    "    return binary_vec[0]+binary_vec[-1] in [0,1]\n",
    "\n",
    "def calabi_polytope(n):\n",
    "    vertices=[v for v in cube(n) if is_calabi_vertex(v)]\n",
    "    if n%2 !=0:\n",
    "        vertices.append(list(np.repeat(1/2,n)))\n",
    "    return vertices\n",
    "\n",
    "volume(calabi_polytope(4))"
   ]
  },
  {
   "cell_type": "markdown",
   "id": "029bbe20",
   "metadata": {},
   "source": [
    "# References\n",
    "\n",
    "* Beukers, Calabi, and Kolk Paper: http://citeseerx.ist.psu.edu/viewdoc/download?doi=10.1.1.226.4861&rep=rep1&type=pdf\n",
    "* Noam Elkies Paper: https://www.maa.org/sites/default/files/pdf/news/Elkies.pdf\n",
    "http://dedekind.mit.edu/~rstan/pubs/pubfiles/66.pdf\n",
    "* Richard Stanley Paper: http://dedekind.mit.edu/~rstan/pubs/pubfiles/66.pdf\n",
    "* Zurab Silagadze Papers: https://link.springer.com/content/pdf/10.1007/s12045-015-0241-0.pdf and https://www.degruyter.com/document/doi/10.1515/gmj-2012-0023/html\n",
    "* Vivek Kaushik and Daniele Ritelli Paper: https://www.ams.org/journals/qam/2018-76-03/S0033-569X-2018-01499-3/S0033-569X-2018-01499-3.pdf"
   ]
  }
 ],
 "metadata": {
  "kernelspec": {
   "display_name": "Python 3 (ipykernel)",
   "language": "python",
   "name": "python3"
  },
  "language_info": {
   "codemirror_mode": {
    "name": "ipython",
    "version": 3
   },
   "file_extension": ".py",
   "mimetype": "text/x-python",
   "name": "python",
   "nbconvert_exporter": "python",
   "pygments_lexer": "ipython3",
   "version": "3.10.0"
  }
 },
 "nbformat": 4,
 "nbformat_minor": 5
}
